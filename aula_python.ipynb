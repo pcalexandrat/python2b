{
  "nbformat": 4,
  "nbformat_minor": 0,
  "metadata": {
    "colab": {
      "provenance": [],
      "authorship_tag": "ABX9TyNwplJE9RTOjgKZ/m6VtHQY",
      "include_colab_link": true
    },
    "kernelspec": {
      "name": "python3",
      "display_name": "Python 3"
    },
    "language_info": {
      "name": "python"
    }
  },
  "cells": [
    {
      "cell_type": "markdown",
      "metadata": {
        "id": "view-in-github",
        "colab_type": "text"
      },
      "source": [
        "<a href=\"https://colab.research.google.com/github/pcalexandrat/python2b/blob/main/aula_python.ipynb\" target=\"_parent\"><img src=\"https://colab.research.google.com/assets/colab-badge.svg\" alt=\"Open In Colab\"/></a>"
      ]
    },
    {
      "cell_type": "markdown",
      "source": [
        "Aula 1"
      ],
      "metadata": {
        "id": "mZOZ1cZvyLcF"
      }
    },
    {
      "cell_type": "code",
      "execution_count": null,
      "metadata": {
        "id": "3_lBdYnwx-lx",
        "colab": {
          "base_uri": "https://localhost:8080/"
        },
        "outputId": "0e7684b4-7947-471c-c072-24de630cc4e2"
      },
      "outputs": [
        {
          "output_type": "stream",
          "name": "stdout",
          "text": [
            "I competição de programação dá Start\n",
            "IX competição de programação da Start\n",
            "IX competição de programação da Start\n"
          ]
        }
      ],
      "source": [
        "print(\"I competição de programação dá Start\")\n",
        "ano = \"IX\"\n",
        "print(ano, \"competição de programação da Start\")\n",
        "print(f\"{ano} competição de programação da Start\")"
      ]
    },
    {
      "cell_type": "markdown",
      "source": [
        "aula2"
      ],
      "metadata": {
        "id": "8cH2KLNg01ct"
      }
    },
    {
      "cell_type": "code",
      "source": [
        "livro_ficcao = 8\n",
        "livro_n_ficcao = 10\n",
        "livro_infantil = 6\n",
        "pontos_rodrigo = livro_ficcao + livro_n_ficcao + livro_infantil\n",
        "print(f\"Os pontos totais do Rodrigo são {pontos_rodrigo}\")"
      ],
      "metadata": {
        "colab": {
          "base_uri": "https://localhost:8080/"
        },
        "id": "TuyfIDYW09x5",
        "outputId": "4c64a518-d850-46dc-bc4f-12489c45e760"
      },
      "execution_count": null,
      "outputs": [
        {
          "output_type": "stream",
          "name": "stdout",
          "text": [
            "Os pontos totais do Rodrigo são 24\n"
          ]
        }
      ]
    },
    {
      "cell_type": "markdown",
      "source": [
        "#**Aula** 3    💯    ✨    🙋\n",
        "\n"
      ],
      "metadata": {
        "id": "6VCsWrT_u4Pv"
      }
    },
    {
      "cell_type": "code",
      "source": [
        "numero_de_alunos = int(input(\"Digite a quantidade de alunos: \"))\n",
        "numero_de_monitores = int(input(\"Digite a quantidade de monitores: \"))\n",
        "numero_de_professores = 8\n",
        "if numero_de_alunos + numero_de_monitores + numero_de_professores <= 50:\n",
        "  resposta_positiva = \"pode ir\"\n",
        "resposta_negativa = \"não pode ir\"\n",
        "if numero_de_alunos + numero_de_monitores + numero_de_professores  <= 50:\n",
        "  print(resposta_positiva)\n",
        "else:\n",
        "  print(resposta_negativa)"
      ],
      "metadata": {
        "colab": {
          "base_uri": "https://localhost:8080/"
        },
        "id": "TtYBXy8JwNHr",
        "outputId": "f4496701-a187-4004-d7ec-c0e8eefa6e86"
      },
      "execution_count": 4,
      "outputs": [
        {
          "output_type": "stream",
          "name": "stdout",
          "text": [
            "Digite a quantidade de alunos: 30\n",
            "Digite a quantidade de monitores: 20\n",
            "não pode ir\n"
          ]
        }
      ]
    }
  ]
}